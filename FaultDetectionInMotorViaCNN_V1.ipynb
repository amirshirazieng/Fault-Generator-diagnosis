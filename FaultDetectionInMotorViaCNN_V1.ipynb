{
  "nbformat": 4,
  "nbformat_minor": 0,
  "metadata": {
    "colab": {
      "name": "FaultDetection92Perecent.ipynb",
      "provenance": [],
      "collapsed_sections": [],
      "include_colab_link": true
    },
    "kernelspec": {
      "name": "python3",
      "display_name": "Python 3"
    },
    "language_info": {
      "name": "python"
    },
    "accelerator": "GPU"
  },
  "cells": [
    {
      "cell_type": "markdown",
      "metadata": {
        "id": "view-in-github",
        "colab_type": "text"
      },
      "source": [
        "<a href=\"https://colab.research.google.com/github/amirshirazieng/MyMachineLearningSampleCode/blob/Sample/FaultDetectionInMotorViaCNN_V1.ipynb\" target=\"_parent\"><img src=\"https://colab.research.google.com/assets/colab-badge.svg\" alt=\"Open In Colab\"/></a>"
      ]
    },
    {
      "cell_type": "code",
      "execution_count": null,
      "metadata": {
        "id": "RWSJpsyKqHjH",
        "colab": {
          "base_uri": "https://localhost:8080/"
        },
        "outputId": "8d2d238b-20cb-468f-f964-4ccb8b48b7a5"
      },
      "outputs": [
        {
          "output_type": "stream",
          "name": "stdout",
          "text": [
            "Drive already mounted at /content/drive; to attempt to forcibly remount, call drive.mount(\"/content/drive\", force_remount=True).\n"
          ]
        }
      ],
      "source": [
        "#mount the google drive path\n",
        "from google.colab import drive\n",
        "drive.mount('/content/drive')"
      ]
    },
    {
      "cell_type": "code",
      "execution_count": null,
      "metadata": {
        "id": "xb4PeR29Pa87",
        "colab": {
          "base_uri": "https://localhost:8080/"
        },
        "outputId": "9d26ced6-95d1-4502-8643-2c294b41b41c"
      },
      "outputs": [
        {
          "output_type": "stream",
          "name": "stdout",
          "text": [
            "2.7.0\n",
            "2.7.0\n"
          ]
        }
      ],
      "source": [
        "import tensorflow as tf\n",
        "from keras import layers, optimizers, losses\n",
        "from keras.layers import Dense, Dropout\n",
        "import keras\n",
        "from keras.models import Sequential\n",
        "from keras import layers\n",
        "import matplotlib.pyplot as plt\n",
        "from tensorflow.keras.utils import to_categorical\n",
        "from tensorflow import keras\n",
        "import re\n",
        "import scipy.io\n",
        "import numpy as np\n",
        "import pandas as pd\n",
        "import sklearn\n",
        "from sklearn.model_selection import train_test_split\n",
        "from keras.layers.convolutional import Conv2D\n",
        "from keras.layers import Dense\n",
        "from keras.layers.convolutional import MaxPooling2D,Conv1D,MaxPooling1D\n",
        "from keras.layers.core import Flatten\n",
        "from tensorflow.keras.layers import BatchNormalization\n",
        "from keras.layers import Activation\n",
        "from sklearn.neighbors import KNeighborsClassifier\n",
        "from tensorflow.keras.layers import Dense\n",
        "from tensorflow.keras.layers import Dropout\n",
        "from tensorflow.keras.callbacks import EarlyStopping\n",
        "from sklearn.preprocessing import LabelEncoder\n",
        "import matplotlib.pyplot as plt\n",
        "import keras\n",
        "print(tf.__version__)\n",
        "print(keras.__version__)"
      ]
    },
    {
      "cell_type": "code",
      "source": [
        "matlab_files_name = {}\n",
        " \n",
        "def cwru_12khz():\n",
        "  # Normal\n",
        "  matlab_files_name[\"B007_1_123\"] = \"/content/drive/MyDrive/Shirazi/raw/B007_1_123.mat\"\n",
        "  matlab_files_name[\"B014_1_190\"] = \"/content/drive/MyDrive/Shirazi/raw/B014_1_190.mat\"\n",
        "  matlab_files_name[\"B021_1_227\"] = \"/content/drive/MyDrive/Shirazi/raw/B021_1_227.mat\"\n",
        "  matlab_files_name[\"IR007_1_110\"] = \"/content/drive/MyDrive/Shirazi/raw/IR007_1_110.mat\"\n",
        "  matlab_files_name[\"IR014_1_175\"] = \"/content/drive/MyDrive/Shirazi/raw/IR014_1_175.mat\"\n",
        "  matlab_files_name[\"IR021_1_214\"] = \"/content/drive/MyDrive/Shirazi/raw/IR021_1_214.mat\"\n",
        "  matlab_files_name[\"OR007_6_1_136\"] = \"/content/drive/MyDrive/Shirazi/raw/OR007_6_1_136.mat\"\n",
        "  matlab_files_name[\"OR014_6_1_202\"] = \"/content/drive/MyDrive/Shirazi/raw/OR014_6_1_202.mat\"\n",
        "  matlab_files_name[\"OR021_6_1_239\"] = \"/content/drive/MyDrive/Shirazi/raw/OR021_6_1_239.mat\"\n",
        "  matlab_files_name[\"Time_Normal_1_098\"] = \"/content/drive/MyDrive/Shirazi/raw/Time_Normal_1_098.mat\"\n",
        "  return matlab_files_name"
      ],
      "metadata": {
        "id": "lClP7ecOROD6"
      },
      "execution_count": null,
      "outputs": []
    },
    {
      "cell_type": "code",
      "source": [
        "def get_tensors_from_matlab(matlab_files_name):  \n",
        "  acquisitions = {}\n",
        "  for key in cwru_12khz():\n",
        "    file_name = matlab_files_name[key]\n",
        "    matlab_file = scipy.io.loadmat(file_name)\n",
        "    for position in ['DE']:\n",
        "      keys = [key for key in matlab_file if key.endswith(position+\"_time\")]\n",
        "      if len(keys)>0:\n",
        "        array_key = keys[0]\n",
        "        acquisitions[key] = matlab_file[array_key].reshape(1,-1)[0]\n",
        "  return acquisitions"
      ],
      "metadata": {
        "id": "MV8d0vNE_1Kc"
      },
      "execution_count": null,
      "outputs": []
    },
    {
      "cell_type": "code",
      "source": [
        "def cwru_segmentation(acquisitions, sample_size=512, max_samples=None):\n",
        "  '''\n",
        "  Segments the acquisitions.\n",
        "  sample_size is the size of each segment.\n",
        "  max_samples is used for debug purpouses and \n",
        "  reduces the number of samples from each acquisition.\n",
        "  '''\n",
        "  origin = []\n",
        "  data = np.empty((0,sample_size,1))\n",
        "  n = len(acquisitions)\n",
        "  for i,key in enumerate(acquisitions):\n",
        "    acquisition_size = len(acquisitions[key])\n",
        "    n_samples = acquisition_size//sample_size\n",
        "    if max_samples is not None and max_samples > 0 and n_samples > max_samples:\n",
        "      n_samples = max_samples\n",
        "    print('{}/{} --- {}: {}'.format(i+1, n, key, n_samples))\n",
        "    origin.extend([key for _ in range(n_samples)])\n",
        "    data = np.concatenate((data,\n",
        "           acquisitions[key][:(n_samples*sample_size)].reshape(\n",
        "               (n_samples,sample_size,1))))\n",
        "  return data,origin"
      ],
      "metadata": {
        "id": "RXgwkEI7AKfb"
      },
      "execution_count": null,
      "outputs": []
    },
    {
      "cell_type": "code",
      "source": [
        "def select_samples(regex, X, y):\n",
        "  '''\n",
        "  Selects samples wich has some regex pattern in its name.\n",
        "  '''\n",
        "  mask = [re.search(regex,label) is not None for label in y]\n",
        "  return X[mask],y[mask]"
      ],
      "metadata": {
        "id": "UCK2OSyExwHv"
      },
      "execution_count": null,
      "outputs": []
    },
    {
      "cell_type": "code",
      "source": [
        "def join_labels(regex, y):\n",
        "  '''\n",
        "  Excludes some regex patterns from the labels, \n",
        "  making some samples to have the same label.\n",
        "  '''\n",
        "  return np.array([re.sub(regex, '', label) for label in y])"
      ],
      "metadata": {
        "id": "FNgvuwqUx_Ad"
      },
      "execution_count": null,
      "outputs": []
    },
    {
      "cell_type": "code",
      "source": [
        "def get_groups(regex, y):\n",
        "  '''\n",
        "  Generates a list of groups of samples with \n",
        "  the same regex patten in its label.\n",
        "  '''\n",
        "  groups = list(range(len(y)))\n",
        "  for i,label in enumerate(y):\n",
        "    match = re.search(regex,label)\n",
        "    groups[i] = match.group(0) if match else None\n",
        "  return groups"
      ],
      "metadata": {
        "id": "D6_nj0neyDcm"
      },
      "execution_count": null,
      "outputs": []
    },
    {
      "cell_type": "code",
      "source": [
        "matlab_files_name = cwru_12khz()\n",
        "matlab_files_name\n",
        "acquisitions = get_tensors_from_matlab(matlab_files_name)\n",
        "list(acquisitions.keys())"
      ],
      "metadata": {
        "colab": {
          "base_uri": "https://localhost:8080/"
        },
        "id": "pkJnLQ3HyMEe",
        "outputId": "adb7ab73-a19b-439c-e8f6-f810f58830e4"
      },
      "execution_count": null,
      "outputs": [
        {
          "output_type": "execute_result",
          "data": {
            "text/plain": [
              "['B007_1_123',\n",
              " 'B014_1_190',\n",
              " 'B021_1_227',\n",
              " 'IR007_1_110',\n",
              " 'IR014_1_175',\n",
              " 'IR021_1_214',\n",
              " 'OR007_6_1_136',\n",
              " 'OR014_6_1_202',\n",
              " 'OR021_6_1_239',\n",
              " 'Time_Normal_1_098']"
            ]
          },
          "metadata": {},
          "execution_count": 94
        }
      ]
    },
    {
      "cell_type": "code",
      "source": [
        "acquisitions.get('B007_1_123').shape"
      ],
      "metadata": {
        "colab": {
          "base_uri": "https://localhost:8080/"
        },
        "id": "a3DOwPzqyR6Y",
        "outputId": "84c7f16a-f5ba-40a9-ddad-42508ca70008"
      },
      "execution_count": null,
      "outputs": [
        {
          "output_type": "execute_result",
          "data": {
            "text/plain": [
              "(487384,)"
            ]
          },
          "metadata": {},
          "execution_count": 95
        }
      ]
    },
    {
      "cell_type": "code",
      "source": [
        "plt.figure(figsize=(15,3))\n",
        "plt.plot(acquisitions.get('B007_1_123'))"
      ],
      "metadata": {
        "colab": {
          "base_uri": "https://localhost:8080/",
          "height": 230
        },
        "id": "fRwHr17syrrL",
        "outputId": "74029456-9c93-469c-e778-59cc9119331a"
      },
      "execution_count": null,
      "outputs": [
        {
          "output_type": "execute_result",
          "data": {
            "text/plain": [
              "[<matplotlib.lines.Line2D at 0x7f8b72261190>]"
            ]
          },
          "metadata": {},
          "execution_count": 96
        },
        {
          "output_type": "display_data",
          "data": {
            "image/png": "[encoded data removed]",
            "text/plain": [
              "<Figure size 1080x216 with 1 Axes>"
            ]
          },
          "metadata": {
            "needs_background": "light"
          }
        }
      ]
    },
    {
      "cell_type": "code",
      "source": [
        "plt.plot(acquisitions.get('IR014_1_175'))"
      ],
      "metadata": {
        "colab": {
          "base_uri": "https://localhost:8080/",
          "height": 284
        },
        "id": "4-JdRh_fy84W",
        "outputId": "0714c286-1e23-46f3-9e7e-03edf2d2ddee"
      },
      "execution_count": null,
      "outputs": [
        {
          "output_type": "execute_result",
          "data": {
            "text/plain": [
              "[<matplotlib.lines.Line2D at 0x7f8b721cc650>]"
            ]
          },
          "metadata": {},
          "execution_count": 97
        },
        {
          "output_type": "display_data",
          "data": {
            "image/png": "[encoded data removed]",
            "text/plain": [
              "<Figure size 432x288 with 1 Axes>"
            ]
          },
          "metadata": {
            "needs_background": "light"
          }
        }
      ]
    },
    {
      "cell_type": "code",
      "source": [
        "signal_data,signal_origin = cwru_segmentation(acquisitions, 256)"
      ],
      "metadata": {
        "colab": {
          "base_uri": "https://localhost:8080/"
        },
        "id": "Txjf6MT8zGd9",
        "outputId": "9b08addd-3a05-431f-d39e-b904a4dd4d03"
      },
      "execution_count": null,
      "outputs": [
        {
          "output_type": "stream",
          "name": "stdout",
          "text": [
            "1/10 --- B007_1_123: 1903\n",
            "2/10 --- B014_1_190: 1899\n",
            "3/10 --- B021_1_227: 1901\n",
            "4/10 --- IR007_1_110: 1899\n",
            "5/10 --- IR014_1_175: 1910\n",
            "6/10 --- IR021_1_214: 1894\n",
            "7/10 --- OR007_6_1_136: 1901\n",
            "8/10 --- OR014_6_1_202: 1892\n",
            "9/10 --- OR021_6_1_239: 1910\n",
            "10/10 --- Time_Normal_1_098: 1890\n"
          ]
        }
      ]
    },
    {
      "cell_type": "code",
      "source": [
        "signal_data.shape"
      ],
      "metadata": {
        "colab": {
          "base_uri": "https://localhost:8080/"
        },
        "id": "0OLcvdoWzIlY",
        "outputId": "a44a1efd-df79-460c-916b-9c6ea662a08c"
      },
      "execution_count": null,
      "outputs": [
        {
          "output_type": "execute_result",
          "data": {
            "text/plain": [
              "(18999, 256, 1)"
            ]
          },
          "metadata": {},
          "execution_count": 99
        }
      ]
    },
    {
      "cell_type": "code",
      "source": [
        "def samples_relabel(regex, rp, y):\n",
        "  '''\n",
        "  Selects samples wich has some regex pattern in its name.\n",
        "  '''\n",
        "  mask = [re.search(regex,label) is not None for label in y]\n",
        "  y[mask]=rp\n",
        "  return y"
      ],
      "metadata": {
        "id": "ijxVEtckzhCe"
      },
      "execution_count": null,
      "outputs": []
    },
    {
      "cell_type": "code",
      "source": [
        "relabel_signal = np.array(signal_origin)\n",
        "regex = '^(B007_1_123).*'\n",
        "rp = 'B007_1_123'\n",
        "relabel_signal = samples_relabel(regex, rp, relabel_signal)\n",
        "\n",
        "regex = '^(B014_1_190).*'\n",
        "rp = 'B014_1_190'\n",
        "relabel_signal = samples_relabel(regex, rp, relabel_signal)\n",
        "regex = '^(B021_1_227).*'\n",
        "rp = 'B021_1_227'\n",
        "relabel_signal = samples_relabel(regex, rp, relabel_signal)\n",
        "regex = '^(IR007_1_110).*'\n",
        "rp = 'IR007_1_110'\n",
        "relabel_signal = samples_relabel(regex, rp, relabel_signal)\n",
        "regex = '^(IR014_1_175).*'\n",
        "rp = 'IR014_1_175'\n",
        "relabel_signal = samples_relabel(regex, rp, relabel_signal)\n",
        "\n",
        "\n",
        "regex = '^(IR021_1_214).*'\n",
        "rp = 'IR021_1_214'\n",
        "relabel_signal = samples_relabel(regex, rp, relabel_signal)\n",
        "regex = '^(OR007_6_1_136).*'\n",
        "rp = 'OR007_6_1_136'\n",
        "relabel_signal = samples_relabel(regex, rp, relabel_signal)\n",
        "regex = '^(OR014_6_1_202).*'\n",
        "rp = 'OR014_6_1_202'\n",
        "relabel_signal = samples_relabel(regex, rp, relabel_signal)\n",
        "regex = '^(OR021_6_1_239).*'\n",
        "rp = 'OR021_6_1_239'\n",
        "relabel_signal = samples_relabel(regex, rp, relabel_signal)\n",
        "\n",
        "regex = '^(Time_Normal_1_098).*'\n",
        "rp = 'Time_Normal_1_098'\n",
        "relabel_signal = samples_relabel(regex, rp, relabel_signal)\n",
        "\n",
        "\n",
        "#print(a)\n",
        "np.where(relabel_signal == \"B014_1_190\")"
      ],
      "metadata": {
        "id": "oiQrFGrTzk6q",
        "colab": {
          "base_uri": "https://localhost:8080/"
        },
        "outputId": "3b27722e-ca6d-4572-abd9-87b25f64f38b"
      },
      "execution_count": null,
      "outputs": [
        {
          "output_type": "execute_result",
          "data": {
            "text/plain": [
              "(array([1903, 1904, 1905, ..., 3799, 3800, 3801]),)"
            ]
          },
          "metadata": {},
          "execution_count": 101
        }
      ]
    },
    {
      "cell_type": "code",
      "source": [
        "samples = '^(IR)|(B0).*'\n",
        "X,y = select_samples(samples, signal_data, relabel_signal)\n",
        "print(len(set(y)),set(y))"
      ],
      "metadata": {
        "id": "-nhXHVjm1JzA",
        "colab": {
          "base_uri": "https://localhost:8080/"
        },
        "outputId": "104c886c-f4db-4c41-c496-6ca49685d9d1"
      },
      "execution_count": null,
      "outputs": [
        {
          "output_type": "stream",
          "name": "stdout",
          "text": [
            "6 {'IR014_1_175', 'B021_1_227', 'IR021_1_214', 'B007_1_123', 'B014_1_190', 'IR007_1_110'}\n"
          ]
        }
      ]
    },
    {
      "cell_type": "code",
      "source": [
        "np.size(np.where(y == \"B014_1_190\"))"
      ],
      "metadata": {
        "colab": {
          "base_uri": "https://localhost:8080/"
        },
        "id": "3Q4Cn5Pq2OpK",
        "outputId": "9ef65136-00a4-4436-9125-2b51ec115885"
      },
      "execution_count": null,
      "outputs": [
        {
          "output_type": "execute_result",
          "data": {
            "text/plain": [
              "1899"
            ]
          },
          "metadata": {},
          "execution_count": 103
        }
      ]
    },
    {
      "cell_type": "code",
      "source": [
        "X[1421].shape"
      ],
      "metadata": {
        "colab": {
          "base_uri": "https://localhost:8080/"
        },
        "id": "kOe7Gxhq2aEA",
        "outputId": "d02ff4ce-d680-460a-a809-6802961d5555"
      },
      "execution_count": null,
      "outputs": [
        {
          "output_type": "execute_result",
          "data": {
            "text/plain": [
              "(256, 1)"
            ]
          },
          "metadata": {},
          "execution_count": 104
        }
      ]
    },
    {
      "cell_type": "code",
      "source": [
        "plt.figure(figsize=(8,3))\n",
        "plt.ylim([-7,7])\n",
        "plt.plot(X[1400])"
      ],
      "metadata": {
        "colab": {
          "base_uri": "https://localhost:8080/",
          "height": 230
        },
        "id": "sfZkEC6d2iMv",
        "outputId": "4afeb156-9e88-471e-f53b-dd57cfffef7b"
      },
      "execution_count": null,
      "outputs": [
        {
          "output_type": "execute_result",
          "data": {
            "text/plain": [
              "[<matplotlib.lines.Line2D at 0x7f8b7213f550>]"
            ]
          },
          "metadata": {},
          "execution_count": 105
        },
        {
          "output_type": "display_data",
          "data": {
            "image/png": "[encoded data removed]",
            "text/plain": [
              "<Figure size 576x216 with 1 Axes>"
            ]
          },
          "metadata": {
            "needs_background": "light"
          }
        }
      ]
    },
    {
      "cell_type": "code",
      "source": [
        "labels = pd.Categorical(y, categories = set(y)).codes\n",
        "labels"
      ],
      "metadata": {
        "colab": {
          "base_uri": "https://localhost:8080/"
        },
        "id": "htc2ICos2tHI",
        "outputId": "d675c18d-8f6a-4cac-e9a0-e3b70b4b4a33"
      },
      "execution_count": null,
      "outputs": [
        {
          "output_type": "execute_result",
          "data": {
            "text/plain": [
              "array([3, 3, 3, ..., 2, 2, 2], dtype=int8)"
            ]
          },
          "metadata": {},
          "execution_count": 106
        }
      ]
    },
    {
      "cell_type": "code",
      "source": [
        "from sklearn.model_selection import train_test_split\n",
        "X_train, X_test, y_train, y_test = train_test_split(X, labels, test_size=0.25, shuffle=True)"
      ],
      "metadata": {
        "id": "Kcew2YHRNsu2"
      },
      "execution_count": null,
      "outputs": []
    },
    {
      "cell_type": "code",
      "source": [
        "nsamples, nx, ny = X_train.shape\n",
        "d2_train_dataset = X_train.reshape((nsamples,nx*ny))\n",
        "nsamples2, nx, ny = X_test.shape\n",
        "d3_train_dataset = X_test.reshape((nsamples2,nx*ny))"
      ],
      "metadata": {
        "id": "UYmGBXK6aj7q"
      },
      "execution_count": null,
      "outputs": []
    },
    {
      "cell_type": "code",
      "source": [
        "X_train.shape\n",
        "d2_train_dataset.shape"
      ],
      "metadata": {
        "colab": {
          "base_uri": "https://localhost:8080/"
        },
        "id": "NDRSE61fi_Yy",
        "outputId": "8a72e727-3eb1-4f6d-de9d-6ead91977940"
      },
      "execution_count": null,
      "outputs": [
        {
          "output_type": "execute_result",
          "data": {
            "text/plain": [
              "(8554, 256)"
            ]
          },
          "metadata": {},
          "execution_count": 109
        }
      ]
    },
    {
      "cell_type": "code",
      "source": [
        "from sklearn.svm import SVC\n",
        "svm = SVC(random_state = 1)\n",
        "svm.fit(d2_train_dataset,y_train)\n",
        "print(\"SVM accuracy is {} on Train Dataset\".format(svm.score(d2_train_dataset,y_train)))\n",
        "print(\"SVM accuracy is {} on Test Dataset\".format(svm.score(d3_train_dataset,y_test)))"
      ],
      "metadata": {
        "id": "C24w9E7gMZuw",
        "colab": {
          "base_uri": "https://localhost:8080/"
        },
        "outputId": "7b9c6b05-4d04-4eab-a37e-859fad4b09d9"
      },
      "execution_count": null,
      "outputs": [
        {
          "output_type": "stream",
          "name": "stdout",
          "text": [
            "SVM accuracy is 0.9106850596212298 on Train Dataset\n",
            "SVM accuracy is 0.8934081346423562 on Test Dataset\n"
          ]
        }
      ]
    },
    {
      "cell_type": "code",
      "source": [
        "knn = KNeighborsClassifier(n_neighbors = 1) #n_neighbors = k\n",
        "knn.fit(d2_train_dataset,y_train)\n",
        "print(\"k={}NN Accuracy on Train Data: {}\".format(2,knn.score(d2_train_dataset,y_train)))\n",
        "print(\"k={}NN Accuracy on Test Data: {}\".format(2,knn.score(d3_train_dataset,y_test)))"
      ],
      "metadata": {
        "id": "ycjeaAuXLtIW",
        "colab": {
          "base_uri": "https://localhost:8080/"
        },
        "outputId": "d602d0be-66db-464c-fe20-cf002ae5acd8"
      },
      "execution_count": null,
      "outputs": [
        {
          "output_type": "stream",
          "name": "stdout",
          "text": [
            "k=2NN Accuracy on Train Data: 1.0\n",
            "k=2NN Accuracy on Test Data: 0.7668302945301543\n"
          ]
        }
      ]
    },
    {
      "cell_type": "code",
      "source": [
        "early_stop = EarlyStopping(monitor='loss', patience=2)\n",
        "model = Sequential()\n",
        "\n",
        "model.add(Dense(512, activation='relu', input_shape=(256,),kernel_initializer='random_uniform'))\n",
        "model.add(Dropout(0.5))\n",
        "model.add(Dense(256, activation='relu',kernel_initializer='random_uniform'))\n",
        "model.add(Dropout(0.4))\n",
        "model.add(Dense(128, activation='relu',kernel_initializer='random_uniform'))\n",
        "model.add(Dropout(0.3))\n",
        "model.add(Dense(64, activation='relu',kernel_initializer='random_uniform'))\n",
        "model.add(Dropout(0.2))\n",
        "model.add(Dense(9, activation='softmax',kernel_initializer='random_uniform'))\n",
        "\n",
        "model.compile(optimizer='adam', loss='sparse_categorical_crossentropy', metrics=['accuracy'])\n",
        "model.summary()"
      ],
      "metadata": {
        "id": "_yFPl8EWgZUI"
      },
      "execution_count": null,
      "outputs": []
    },
    {
      "cell_type": "code",
      "source": [
        "y = LabelEncoder().fit_transform(y)"
      ],
      "metadata": {
        "id": "OTMl2eIjhCU8"
      },
      "execution_count": null,
      "outputs": []
    },
    {
      "cell_type": "code",
      "source": [
        "d2_train_dataset.shape"
      ],
      "metadata": {
        "id": "0H99WVJ7ieRV",
        "colab": {
          "base_uri": "https://localhost:8080/"
        },
        "outputId": "a5e09ffd-05f9-4a88-e7c9-ea9303176b3e"
      },
      "execution_count": null,
      "outputs": [
        {
          "output_type": "execute_result",
          "data": {
            "text/plain": [
              "(8554, 256)"
            ]
          },
          "metadata": {},
          "execution_count": 185
        }
      ]
    },
    {
      "cell_type": "code",
      "source": [
        "hist = model.fit(d2_train_dataset , y_train, batch_size=128 , epochs=70, validation_split=0.2)"
      ],
      "metadata": {
        "id": "qkw8FG9XhywX",
        "colab": {
          "base_uri": "https://localhost:8080/"
        },
        "outputId": "e19a7681-bc0f-442e-8b3f-c2b7764627e6"
      },
      "execution_count": null,
      "outputs": [
        {
          "output_type": "stream",
          "name": "stdout",
          "text": [
            "Epoch 1/70\n",
            "54/54 [==============================] - 1s 6ms/step - loss: 1.8172 - accuracy: 0.1691 - val_loss: 1.6266 - val_accuracy: 0.1695\n",
            "Epoch 2/70\n",
            "54/54 [==============================] - 0s 4ms/step - loss: 1.5168 - accuracy: 0.2828 - val_loss: 1.2721 - val_accuracy: 0.4541\n",
            "Epoch 3/70\n",
            "54/54 [==============================] - 0s 4ms/step - loss: 1.1773 - accuracy: 0.4540 - val_loss: 1.0252 - val_accuracy: 0.5406\n",
            "Epoch 4/70\n",
            "54/54 [==============================] - 0s 5ms/step - loss: 1.0810 - accuracy: 0.4974 - val_loss: 0.9866 - val_accuracy: 0.5646\n",
            "Epoch 5/70\n",
            "54/54 [==============================] - 0s 4ms/step - loss: 0.9937 - accuracy: 0.5369 - val_loss: 0.9051 - val_accuracy: 0.5792\n",
            "Epoch 6/70\n",
            "54/54 [==============================] - 0s 4ms/step - loss: 0.9398 - accuracy: 0.5591 - val_loss: 0.8366 - val_accuracy: 0.6055\n",
            "Epoch 7/70\n",
            "54/54 [==============================] - 0s 4ms/step - loss: 0.8671 - accuracy: 0.6126 - val_loss: 0.7511 - val_accuracy: 0.6604\n",
            "Epoch 8/70\n",
            "54/54 [==============================] - 0s 4ms/step - loss: 0.7527 - accuracy: 0.6801 - val_loss: 0.5829 - val_accuracy: 0.7633\n",
            "Epoch 9/70\n",
            "54/54 [==============================] - 0s 4ms/step - loss: 0.6100 - accuracy: 0.7558 - val_loss: 0.4582 - val_accuracy: 0.8153\n",
            "Epoch 10/70\n",
            "54/54 [==============================] - 0s 4ms/step - loss: 0.5235 - accuracy: 0.7899 - val_loss: 0.4162 - val_accuracy: 0.8545\n",
            "Epoch 11/70\n",
            "54/54 [==============================] - 0s 4ms/step - loss: 0.4840 - accuracy: 0.8182 - val_loss: 0.3665 - val_accuracy: 0.8638\n",
            "Epoch 12/70\n",
            "54/54 [==============================] - 0s 5ms/step - loss: 0.4411 - accuracy: 0.8360 - val_loss: 0.3305 - val_accuracy: 0.8773\n",
            "Epoch 13/70\n",
            "54/54 [==============================] - 0s 4ms/step - loss: 0.4200 - accuracy: 0.8458 - val_loss: 0.3226 - val_accuracy: 0.8778\n",
            "Epoch 14/70\n",
            "54/54 [==============================] - 0s 5ms/step - loss: 0.3736 - accuracy: 0.8641 - val_loss: 0.2876 - val_accuracy: 0.8872\n",
            "Epoch 15/70\n",
            "54/54 [==============================] - 0s 4ms/step - loss: 0.3543 - accuracy: 0.8717 - val_loss: 0.2699 - val_accuracy: 0.8971\n",
            "Epoch 16/70\n",
            "54/54 [==============================] - 0s 4ms/step - loss: 0.3445 - accuracy: 0.8759 - val_loss: 0.2501 - val_accuracy: 0.9018\n",
            "Epoch 17/70\n",
            "54/54 [==============================] - 0s 4ms/step - loss: 0.3059 - accuracy: 0.8911 - val_loss: 0.2348 - val_accuracy: 0.9106\n",
            "Epoch 18/70\n",
            "54/54 [==============================] - 0s 4ms/step - loss: 0.2897 - accuracy: 0.8989 - val_loss: 0.2271 - val_accuracy: 0.9094\n",
            "Epoch 19/70\n",
            "54/54 [==============================] - 0s 4ms/step - loss: 0.2735 - accuracy: 0.9100 - val_loss: 0.2297 - val_accuracy: 0.9141\n",
            "Epoch 20/70\n",
            "54/54 [==============================] - 0s 4ms/step - loss: 0.2496 - accuracy: 0.9122 - val_loss: 0.2002 - val_accuracy: 0.9246\n",
            "Epoch 21/70\n",
            "54/54 [==============================] - 0s 4ms/step - loss: 0.2392 - accuracy: 0.9148 - val_loss: 0.1792 - val_accuracy: 0.9316\n",
            "Epoch 22/70\n",
            "54/54 [==============================] - 0s 5ms/step - loss: 0.2263 - accuracy: 0.9237 - val_loss: 0.1751 - val_accuracy: 0.9340\n",
            "Epoch 23/70\n",
            "54/54 [==============================] - 0s 4ms/step - loss: 0.2052 - accuracy: 0.9297 - val_loss: 0.1641 - val_accuracy: 0.9404\n",
            "Epoch 24/70\n",
            "54/54 [==============================] - 0s 4ms/step - loss: 0.1910 - accuracy: 0.9341 - val_loss: 0.1562 - val_accuracy: 0.9427\n",
            "Epoch 25/70\n",
            "54/54 [==============================] - 0s 4ms/step - loss: 0.1818 - accuracy: 0.9404 - val_loss: 0.1463 - val_accuracy: 0.9456\n",
            "Epoch 26/70\n",
            "54/54 [==============================] - 0s 4ms/step - loss: 0.1718 - accuracy: 0.9404 - val_loss: 0.1364 - val_accuracy: 0.9515\n",
            "Epoch 27/70\n",
            "54/54 [==============================] - 0s 5ms/step - loss: 0.1753 - accuracy: 0.9402 - val_loss: 0.1396 - val_accuracy: 0.9544\n",
            "Epoch 28/70\n",
            "54/54 [==============================] - 0s 4ms/step - loss: 0.1740 - accuracy: 0.9415 - val_loss: 0.1337 - val_accuracy: 0.9521\n",
            "Epoch 29/70\n",
            "54/54 [==============================] - 0s 4ms/step - loss: 0.1620 - accuracy: 0.9461 - val_loss: 0.1466 - val_accuracy: 0.9509\n",
            "Epoch 30/70\n",
            "54/54 [==============================] - 0s 4ms/step - loss: 0.1509 - accuracy: 0.9513 - val_loss: 0.1326 - val_accuracy: 0.9550\n",
            "Epoch 31/70\n",
            "54/54 [==============================] - 0s 4ms/step - loss: 0.1471 - accuracy: 0.9515 - val_loss: 0.1441 - val_accuracy: 0.9521\n",
            "Epoch 32/70\n",
            "54/54 [==============================] - 0s 4ms/step - loss: 0.1620 - accuracy: 0.9493 - val_loss: 0.1397 - val_accuracy: 0.9544\n",
            "Epoch 33/70\n",
            "54/54 [==============================] - 0s 4ms/step - loss: 0.1595 - accuracy: 0.9489 - val_loss: 0.1290 - val_accuracy: 0.9573\n",
            "Epoch 34/70\n",
            "54/54 [==============================] - 0s 4ms/step - loss: 0.1453 - accuracy: 0.9538 - val_loss: 0.1440 - val_accuracy: 0.9562\n",
            "Epoch 35/70\n",
            "54/54 [==============================] - 0s 4ms/step - loss: 0.1335 - accuracy: 0.9572 - val_loss: 0.1265 - val_accuracy: 0.9538\n",
            "Epoch 36/70\n",
            "54/54 [==============================] - 0s 4ms/step - loss: 0.1339 - accuracy: 0.9575 - val_loss: 0.1482 - val_accuracy: 0.9509\n",
            "Epoch 37/70\n",
            "54/54 [==============================] - 0s 4ms/step - loss: 0.1306 - accuracy: 0.9562 - val_loss: 0.1249 - val_accuracy: 0.9556\n",
            "Epoch 38/70\n",
            "54/54 [==============================] - 0s 4ms/step - loss: 0.1279 - accuracy: 0.9588 - val_loss: 0.1472 - val_accuracy: 0.9550\n",
            "Epoch 39/70\n",
            "54/54 [==============================] - 0s 4ms/step - loss: 0.1301 - accuracy: 0.9584 - val_loss: 0.1301 - val_accuracy: 0.9579\n",
            "Epoch 40/70\n",
            "54/54 [==============================] - 0s 5ms/step - loss: 0.1214 - accuracy: 0.9624 - val_loss: 0.1444 - val_accuracy: 0.9532\n",
            "Epoch 41/70\n",
            "54/54 [==============================] - 0s 5ms/step - loss: 0.1206 - accuracy: 0.9607 - val_loss: 0.1463 - val_accuracy: 0.9532\n",
            "Epoch 42/70\n",
            "54/54 [==============================] - 0s 4ms/step - loss: 0.1258 - accuracy: 0.9595 - val_loss: 0.1533 - val_accuracy: 0.9497\n",
            "Epoch 43/70\n",
            "54/54 [==============================] - 0s 4ms/step - loss: 0.1297 - accuracy: 0.9560 - val_loss: 0.1496 - val_accuracy: 0.9550\n",
            "Epoch 44/70\n",
            "54/54 [==============================] - 0s 4ms/step - loss: 0.1226 - accuracy: 0.9603 - val_loss: 0.1284 - val_accuracy: 0.9568\n",
            "Epoch 45/70\n",
            "54/54 [==============================] - 0s 4ms/step - loss: 0.1089 - accuracy: 0.9646 - val_loss: 0.1378 - val_accuracy: 0.9550\n",
            "Epoch 46/70\n",
            "54/54 [==============================] - 0s 5ms/step - loss: 0.1085 - accuracy: 0.9658 - val_loss: 0.1338 - val_accuracy: 0.9568\n",
            "Epoch 47/70\n",
            "54/54 [==============================] - 0s 5ms/step - loss: 0.1100 - accuracy: 0.9651 - val_loss: 0.1347 - val_accuracy: 0.9550\n",
            "Epoch 48/70\n",
            "54/54 [==============================] - 0s 5ms/step - loss: 0.1104 - accuracy: 0.9651 - val_loss: 0.1416 - val_accuracy: 0.9550\n",
            "Epoch 49/70\n",
            "54/54 [==============================] - 0s 4ms/step - loss: 0.1125 - accuracy: 0.9611 - val_loss: 0.1386 - val_accuracy: 0.9562\n",
            "Epoch 50/70\n",
            "54/54 [==============================] - 0s 4ms/step - loss: 0.1060 - accuracy: 0.9658 - val_loss: 0.1299 - val_accuracy: 0.9544\n",
            "Epoch 51/70\n",
            "54/54 [==============================] - 0s 4ms/step - loss: 0.1093 - accuracy: 0.9673 - val_loss: 0.1459 - val_accuracy: 0.9579\n",
            "Epoch 52/70\n",
            "54/54 [==============================] - 0s 4ms/step - loss: 0.1067 - accuracy: 0.9636 - val_loss: 0.1151 - val_accuracy: 0.9643\n",
            "Epoch 53/70\n",
            "54/54 [==============================] - 0s 4ms/step - loss: 0.0994 - accuracy: 0.9695 - val_loss: 0.1316 - val_accuracy: 0.9568\n",
            "Epoch 54/70\n",
            "54/54 [==============================] - 0s 4ms/step - loss: 0.0992 - accuracy: 0.9671 - val_loss: 0.1582 - val_accuracy: 0.9562\n",
            "Epoch 55/70\n",
            "54/54 [==============================] - 0s 4ms/step - loss: 0.0952 - accuracy: 0.9676 - val_loss: 0.1296 - val_accuracy: 0.9603\n",
            "Epoch 56/70\n",
            "54/54 [==============================] - 0s 5ms/step - loss: 0.0936 - accuracy: 0.9699 - val_loss: 0.1406 - val_accuracy: 0.9573\n",
            "Epoch 57/70\n",
            "54/54 [==============================] - 0s 4ms/step - loss: 0.1054 - accuracy: 0.9699 - val_loss: 0.1208 - val_accuracy: 0.9626\n",
            "Epoch 58/70\n",
            "54/54 [==============================] - 0s 4ms/step - loss: 0.0971 - accuracy: 0.9679 - val_loss: 0.1275 - val_accuracy: 0.9603\n",
            "Epoch 59/70\n",
            "54/54 [==============================] - 0s 5ms/step - loss: 0.0908 - accuracy: 0.9738 - val_loss: 0.1396 - val_accuracy: 0.9573\n",
            "Epoch 60/70\n",
            "54/54 [==============================] - 0s 4ms/step - loss: 0.0911 - accuracy: 0.9696 - val_loss: 0.1218 - val_accuracy: 0.9638\n",
            "Epoch 61/70\n",
            "54/54 [==============================] - 0s 4ms/step - loss: 0.0925 - accuracy: 0.9700 - val_loss: 0.1321 - val_accuracy: 0.9608\n",
            "Epoch 62/70\n",
            "54/54 [==============================] - 0s 4ms/step - loss: 0.0945 - accuracy: 0.9698 - val_loss: 0.1392 - val_accuracy: 0.9538\n",
            "Epoch 63/70\n",
            "54/54 [==============================] - 0s 4ms/step - loss: 0.0897 - accuracy: 0.9706 - val_loss: 0.1308 - val_accuracy: 0.9608\n",
            "Epoch 64/70\n",
            "54/54 [==============================] - 0s 5ms/step - loss: 0.1022 - accuracy: 0.9664 - val_loss: 0.1214 - val_accuracy: 0.9579\n",
            "Epoch 65/70\n",
            "54/54 [==============================] - 0s 4ms/step - loss: 0.0919 - accuracy: 0.9702 - val_loss: 0.1143 - val_accuracy: 0.9638\n",
            "Epoch 66/70\n",
            "54/54 [==============================] - 0s 4ms/step - loss: 0.0892 - accuracy: 0.9738 - val_loss: 0.1198 - val_accuracy: 0.9573\n",
            "Epoch 67/70\n",
            "54/54 [==============================] - 0s 4ms/step - loss: 0.0801 - accuracy: 0.9740 - val_loss: 0.1498 - val_accuracy: 0.9497\n",
            "Epoch 68/70\n",
            "54/54 [==============================] - 0s 4ms/step - loss: 0.0885 - accuracy: 0.9734 - val_loss: 0.1421 - val_accuracy: 0.9562\n",
            "Epoch 69/70\n",
            "54/54 [==============================] - 0s 4ms/step - loss: 0.0817 - accuracy: 0.9730 - val_loss: 0.1344 - val_accuracy: 0.9591\n",
            "Epoch 70/70\n",
            "54/54 [==============================] - 0s 4ms/step - loss: 0.0774 - accuracy: 0.9750 - val_loss: 0.1243 - val_accuracy: 0.9632\n"
          ]
        }
      ]
    },
    {
      "cell_type": "code",
      "source": [
        "plt.plot(hist.history['accuracy'])\n",
        "plt.plot(hist.history['val_accuracy'])\n",
        "plt.title('model accuracy')\n",
        "plt.ylabel('accuracy')\n",
        "plt.xlabel('epoch')\n",
        "plt.legend(['train', 'val'], loc='upper left')\n",
        "plt.show()"
      ],
      "metadata": {
        "id": "XvOCRUllkNRe",
        "colab": {
          "base_uri": "https://localhost:8080/",
          "height": 295
        },
        "outputId": "c567e0d7-c162-461b-8faa-86be10efd9d8"
      },
      "execution_count": null,
      "outputs": [
        {
          "output_type": "display_data",
          "data": {
            "image/png": "[encoded data removed]",
            "text/plain": [
              "<Figure size 432x288 with 1 Axes>"
            ]
          },
          "metadata": {
            "needs_background": "light"
          }
        }
      ]
    },
    {
      "cell_type": "code",
      "source": [
        "plt.plot(hist.history['loss'])\n",
        "plt.plot(hist.history['val_loss'])\n",
        "plt.title('model loss')\n",
        "plt.ylabel('loss')\n",
        "plt.xlabel('epoch')\n",
        "plt.legend(['train', 'val'], loc='upper left')\n",
        "plt.show()"
      ],
      "metadata": {
        "id": "vIIp4Qc9kUty",
        "colab": {
          "base_uri": "https://localhost:8080/",
          "height": 295
        },
        "outputId": "915472eb-3f7b-4cca-d1e0-8a80ede6748f"
      },
      "execution_count": null,
      "outputs": [
        {
          "output_type": "display_data",
          "data": {
            "image/png": "[encoded data removed]",
            "text/plain": [
              "<Figure size 432x288 with 1 Axes>"
            ]
          },
          "metadata": {
            "needs_background": "light"
          }
        }
      ]
    }
  ]
}