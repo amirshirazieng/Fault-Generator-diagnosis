{
  "nbformat": 4,
  "nbformat_minor": 0,
  "metadata": {
    "colab": {
      "name": "Me.ipynb",
      "provenance": [],
      "collapsed_sections": [],
      "mount_file_id": "https://github.com/amirshirazieng/Retinal_Disease_Classification/blob/Retinal_Disease-Classification/MeV1.ipynb",
      "authorship_tag": "ABX9TyPIXwtAOSspeUvbVL4zsWTK",
      "include_colab_link": true
    },
    "kernelspec": {
      "name": "python3",
      "display_name": "Python 3"
    },
    "language_info": {
      "name": "python"
    }
  },
  "cells": [
    {
      "cell_type": "markdown",
      "metadata": {
        "id": "view-in-github",
        "colab_type": "text"
      },
      "source": [
        "<a href=\"https://colab.research.google.com/github/amirshirazieng/MyMachineLearningSampleCode/blob/Sample/DisseaseDetectionViaTransferLearning.ipynb\" target=\"_parent\"><img src=\"https://colab.research.google.com/assets/colab-badge.svg\" alt=\"Open In Colab\"/></a>"
      ]
    },
    {
      "cell_type": "code",
      "execution_count": null,
      "metadata": {
        "id": "e6EkHb-6D573"
      },
      "outputs": [],
      "source": [
        "import numpy as np \n",
        "import pandas as pd \n",
        "import os\n",
        "import os\n",
        "import zipfile\n",
        "import pandas as pd\n",
        "import numpy as np\n",
        "import csv\n",
        "import tensorflow as tf\n",
        "from tensorflow.keras import Model\n",
        "from tensorflow.keras import layers\n",
        "from tensorflow.keras.optimizers import RMSprop\n",
        "from tensorflow.keras.applications.inception_v3 import InceptionV3\n",
        "from tensorflow.keras.preprocessing.image import ImageDataGenerator\n",
        "import cv2\n",
        "%matplotlib inline\n",
        "import matplotlib.pyplot as plt\n",
        "import matplotlib.image as mpimg\n",
        "import shutil"
      ]
    },
    {
      "cell_type": "code",
      "execution_count": null,
      "metadata": {
        "colab": {
          "base_uri": "https://localhost:8080/"
        },
        "id": "RWSJpsyKqHjH",
        "outputId": "c9c14b98-a0b6-4297-f5e1-12bc49f3432d"
      },
      "outputs": [
        {
          "output_type": "stream",
          "name": "stdout",
          "text": [
            "Drive already mounted at /content/drive; to attempt to forcibly remount, call drive.mount(\"/content/drive\", force_remount=True).\n"
          ]
        }
      ],
      "source": [
        "#mount the google drive path\n",
        "from google.colab import drive\n",
        "drive.mount('/content/drive')"
      ]
    },
    {
      "cell_type": "code",
      "source": [
        "CsvEvaluation_Path = \"/content/drive/MyDrive/Retinal_Disease_Classification/Evaluation_Set/Evaluation_Set/\"\n",
        "CsvTest_Set_Path = \"/content/drive/MyDrive/Retinal_Disease_Classification/Test_Set/Test_Set/\"\n",
        "CsvTraining_Set_Path = \"/content/drive/MyDrive/Retinal_Disease_Classification/Training_Set/Training_Set/\""
      ],
      "metadata": {
        "id": "kUwOTqWo9248"
      },
      "execution_count": null,
      "outputs": []
    },
    {
      "cell_type": "code",
      "source": [
        "#read the csv file and intialize the array for classification\n",
        "a_Evaluation_Set=[]\n",
        "b_Evaluation_Set=[]\n",
        "with open(CsvEvaluation_Path+\"RFMiD_Validation_Labels.csv\",'r') as Evaluation_Set_F:\n",
        "  reader_Evaluation_Set=csv.reader(Evaluation_Set_F)\n",
        "  for row in reader_Evaluation_Set:\n",
        "      if(row[1]=='1'):\n",
        "        a_Evaluation_Set.append(row[0]+'.png')\n",
        "      if(row[1]=='0'):\n",
        "        b_Evaluation_Set.append(row[0]+'.png')\n",
        "Evaluation_Set_F.close() \n"
      ],
      "metadata": {
        "id": "53nYeep9lldw"
      },
      "execution_count": null,
      "outputs": []
    },
    {
      "cell_type": "code",
      "source": [
        "#read the csv file and intialize the array for classification\n",
        "a_Test_Set=[]\n",
        "b_Test_Set=[]\n",
        "with open(CsvTest_Set_Path+\"RFMiD_Testing_Labels.csv\",'r') as Test_Set_F:\n",
        "  reader_Test_Set=csv.reader(Test_Set_F)\n",
        "  for row in reader_Test_Set:\n",
        "      if(row[1]=='1'):\n",
        "        a_Test_Set.append(row[0]+'.png')\n",
        "      if(row[1]=='0'):\n",
        "        b_Test_Set.append(row[0]+'.png')\n",
        "Test_Set_F.close() \n"
      ],
      "metadata": {
        "id": "s9cru4IyAdHr"
      },
      "execution_count": null,
      "outputs": []
    },
    {
      "cell_type": "code",
      "source": [
        "#read the csv file and intialize the array for classification\n",
        "a_Training_Set=[]\n",
        "b_Training_Set=[]\n",
        "with open(CsvTraining_Set_Path + \"RFMiD_Training_Labels.csv\",'r') as Training_Set_F:\n",
        "  reader_Training_Set=csv.reader(Training_Set_F)\n",
        "  for row in reader_Training_Set:\n",
        "      if(row[1]=='1'):\n",
        "        a_Training_Set.append(row[0]+'.png')\n",
        "      if(row[1]=='0'):\n",
        "        b_Training_Set.append(row[0]+'.png')\n",
        "Training_Set_F.close() "
      ],
      "metadata": {
        "id": "YtHkBT3HA2oQ"
      },
      "execution_count": null,
      "outputs": []
    },
    {
      "cell_type": "code",
      "source": [
        "#SetPathInMyEnv\n",
        "#TestingPath\n",
        "TestingPath=\"/content/drive/MyDrive/Retinal_Disease_Classification/MyEnv/Testing/\"\n",
        "#TrainingPath\n",
        "TrainingPath=\"/content/drive/MyDrive/Retinal_Disease_Classification/MyEnv/Training/\"\n",
        "#ValidationPath\n",
        "ValidationPath=\"/content/drive/MyDrive/Retinal_Disease_Classification/MyEnv/Validation/\"\n",
        "\n",
        "#Main Path of Image\n",
        "ImgTest_Set_Path = \"/content/drive/MyDrive/Retinal_Disease_Classification/Test_Set/Test_Set/Test/\"\n",
        "ImgEvaluation_Set_Path = \"/content/drive/MyDrive/Retinal_Disease_Classification/Evaluation_Set/Evaluation_Set/Validation/\"\n",
        "ImgTraining_Set_Path = \"/content/drive/MyDrive/Retinal_Disease_Classification/Training_Set/Training_Set/Training/\"\n",
        "\n",
        "#Classify The folder of Data\n",
        "TestingDiseaseRiskHigh_Path =\"/content/drive/MyDrive/Retinal_Disease_Classification/MyEnv/Testing/DiseaseRiskHigh\"\n",
        "TestingDiseaseRiskLow_Path =\"/content/drive/MyDrive/Retinal_Disease_Classification/MyEnv/Testing/DiseaseRiskLow\"\n",
        "\n",
        "\n",
        "TrainigDiseaseRiskHigh_Path =\"/content/drive/MyDrive/Retinal_Disease_Classification/MyEnv/Training/DiseaseRiskHigh\"\n",
        "TrainigDiseaseRiskLow_Path =\"/content/drive/MyDrive/Retinal_Disease_Classification/MyEnv/Training/DiseaseRiskLow\"\n",
        "\n",
        "ValidationDiseaseRiskHigh_Path =\"/content/drive/MyDrive/Retinal_Disease_Classification/MyEnv/Validation/DiseaseRiskHigh\"\n",
        "ValidationDiseaseRiskLow_Path =\"/content/drive/MyDrive/Retinal_Disease_Classification/MyEnv/Validation/DiseaseRiskLow\""
      ],
      "metadata": {
        "id": "kIG-WPvY-18Z"
      },
      "execution_count": null,
      "outputs": []
    },
    {
      "cell_type": "code",
      "source": [
        "#mkdir for new diseases in testing folder\n",
        "directory1 = \"DiseaseRiskHigh\" \n",
        "directory2 = \"DiseaseRiskLow\"\n",
        "path1 = os.path.join(TestingPath, directory1)\n",
        "path2 = os.path.join(TestingPath, directory2)\n",
        "os.mkdir(path1)\n",
        "os.mkdir(path2)"
      ],
      "metadata": {
        "id": "u_NbJgsKsXiV"
      },
      "execution_count": null,
      "outputs": []
    },
    {
      "cell_type": "code",
      "source": [
        "#mkdir for new diseases in trainig folder\n",
        "directory1 = \"DiseaseRiskHigh\" \n",
        "directory2 = \"DiseaseRiskLow\"\n",
        "path1 = os.path.join(TrainingPath, directory1)\n",
        "path2 = os.path.join(TrainingPath, directory2)\n",
        "os.mkdir(path1)\n",
        "os.mkdir(path2)"
      ],
      "metadata": {
        "id": "GNGnvOzJs8s0"
      },
      "execution_count": null,
      "outputs": []
    },
    {
      "cell_type": "code",
      "source": [
        "#mkdir for new diseases in validation folder\n",
        "directory1 = \"DiseaseRiskHigh\" \n",
        "directory2 = \"DiseaseRiskLow\"\n",
        "path1 = os.path.join(ValidationPath, directory1)\n",
        "path2 = os.path.join(ValidationPath, directory2)\n",
        "os.mkdir(path1)\n",
        "os.mkdir(path2)"
      ],
      "metadata": {
        "id": "S0bjKiEUtIdb"
      },
      "execution_count": null,
      "outputs": []
    },
    {
      "cell_type": "code",
      "source": [
        "# copy the select data to new path in testing file\n",
        "for filename in a_Test_Set:\n",
        "  dest_AbnormalTest = shutil.copy(ImgTest_Set_Path + filename , TestingDiseaseRiskHigh_Path)\n",
        "for filename in b_Test_Set:\n",
        "  dest = shutil.copy(ImgTest_Set_Path + filename , TestingDiseaseRiskLow_Path)"
      ],
      "metadata": {
        "id": "DJw6unvYmASy"
      },
      "execution_count": null,
      "outputs": []
    },
    {
      "cell_type": "code",
      "source": [
        "# copy the select data to new path in Training file\n",
        "for filename in a_Training_Set:\n",
        "  dest = shutil.copy(ImgTraining_Set_Path + filename ,TrainigDiseaseRiskHigh_Path)\n",
        "for filename in b_Training_Set:\n",
        "  dest = shutil.copy(ImgTraining_Set_Path + filename , TrainigDiseaseRiskLow_Path)"
      ],
      "metadata": {
        "id": "YqUARwnY4qpc"
      },
      "execution_count": null,
      "outputs": []
    },
    {
      "cell_type": "code",
      "source": [
        "# copy the select data to new path in Validation file\n",
        "for filename in a_Evaluation_Set:\n",
        "  dest = shutil.copy(ImgEvaluation_Set_Path + filename ,ValidationDiseaseRiskHigh_Path)\n",
        "for filename in b_Evaluation_Set:\n",
        "  dest = shutil.copy(ImgEvaluation_Set_Path + filename , ValidationDiseaseRiskLow_Path)"
      ],
      "metadata": {
        "id": "YLeK8ALQ4rnx"
      },
      "execution_count": null,
      "outputs": []
    },
    {
      "cell_type": "code",
      "source": [
        "print('total validation images:', len(os.listdir(ImgEvaluation_Set_Path)))\n",
        "print('total validation images:', len(os.listdir(ValidationPath)))\n",
        "\n",
        "print('total testing images:', len(os.listdir(TestingPath)))\n",
        "print('total test_Set images:', len(os.listdir(ImgTest_Set_Path)))\n",
        "\n",
        "print('total training images:', len(os.listdir(TrainingPath)))\n",
        "print('total trainSet images:', len(os.listdir(ImgTraining_Set_Path)))"
      ],
      "metadata": {
        "colab": {
          "base_uri": "https://localhost:8080/"
        },
        "id": "dOri1efpDTK2",
        "outputId": "d3676e9b-fa0e-4422-f9d6-ec1b2a149f7c"
      },
      "execution_count": null,
      "outputs": [
        {
          "output_type": "stream",
          "name": "stdout",
          "text": [
            "total validation images: 640\n",
            "total validation images: 2\n",
            "total testing images: 2\n",
            "total test_Set images: 101\n",
            "total training images: 2\n",
            "total trainSet images: 300\n"
          ]
        }
      ]
    },
    {
      "cell_type": "code",
      "source": [
        "train_datagen = ImageDataGenerator(rescale = 1./255.,\n",
        "                                    rotation_range = 30,\n",
        "                                    width_shift_range = 0.1,\n",
        "                                    height_shift_range = 0.1,\n",
        "                                    zoom_range = 0.1,\n",
        "                                    horizontal_flip = True\n",
        "                                   )\n",
        "train_generator = train_datagen.flow_from_directory(TrainingPath, \n",
        "                                                    target_size=(150,150), \n",
        "                                                    class_mode='binary')"
      ],
      "metadata": {
        "colab": {
          "base_uri": "https://localhost:8080/"
        },
        "id": "KLWqOWq1EW23",
        "outputId": "cac701d8-82ba-428e-d321-e434cd645cef"
      },
      "execution_count": null,
      "outputs": [
        {
          "output_type": "stream",
          "name": "stdout",
          "text": [
            "Found 300 images belonging to 2 classes.\n"
          ]
        }
      ]
    },
    {
      "cell_type": "code",
      "source": [
        "validation_datagen = ImageDataGenerator(rescale=1/255)\n",
        "validation_generator = validation_datagen.flow_from_directory(TestingPath, \n",
        "                                                              target_size=(150,150),\n",
        "                                                              class_mode='binary')"
      ],
      "metadata": {
        "colab": {
          "base_uri": "https://localhost:8080/"
        },
        "id": "ib0avqzNQnwI",
        "outputId": "cecc37ba-3bdd-436e-fe7b-c1e0d3b9f960"
      },
      "execution_count": null,
      "outputs": [
        {
          "output_type": "stream",
          "name": "stdout",
          "text": [
            "Found 100 images belonging to 2 classes.\n"
          ]
        }
      ]
    },
    {
      "cell_type": "code",
      "source": [
        "test_datagen = ImageDataGenerator(rescale=1/255)\n",
        "test_generator = test_datagen.flow_from_directory(ValidationPath, \n",
        "                                                              target_size=(150,150),\n",
        "                                                              class_mode='binary')"
      ],
      "metadata": {
        "colab": {
          "base_uri": "https://localhost:8080/"
        },
        "id": "yZ0F7OdUQvej",
        "outputId": "becb1bf8-4081-4927-de41-835d4533cd73"
      },
      "execution_count": null,
      "outputs": [
        {
          "output_type": "stream",
          "name": "stdout",
          "text": [
            "Found 640 images belonging to 2 classes.\n"
          ]
        }
      ]
    },
    {
      "cell_type": "code",
      "source": [
        "from tensorflow.keras.applications import EfficientNetB0\n",
        "from tensorflow.keras.models import Model\n",
        "from tensorflow.keras.layers import Flatten,Dense,Dropout\n",
        "from tensorflow.keras.optimizers import RMSprop\n",
        "from tensorflow import keras"
      ],
      "metadata": {
        "id": "U9SNq_9GRCMC"
      },
      "execution_count": null,
      "outputs": []
    },
    {
      "cell_type": "code",
      "source": [
        "model = EfficientNetB0(input_shape=(150,150,3), weights='imagenet', include_top=False)"
      ],
      "metadata": {
        "id": "XcFFnpx1RYTy"
      },
      "execution_count": null,
      "outputs": []
    },
    {
      "cell_type": "code",
      "source": [
        "model.summary()"
      ],
      "metadata": {
        "id": "o3QvdCpeRcXx"
      },
      "execution_count": null,
      "outputs": []
    },
    {
      "cell_type": "code",
      "source": [
        "for layer in model.layers:\n",
        "    layer.trainable = False"
      ],
      "metadata": {
        "id": "UWI2zntZRpo0"
      },
      "execution_count": null,
      "outputs": []
    },
    {
      "cell_type": "code",
      "source": [
        "x = model.output\n",
        "x = Flatten()(x)\n",
        "x = Dropout(0.5)(x)\n",
        "x = Dense(1024, activation=\"relu\")(x)\n",
        "predictions = Dense(1, activation=\"sigmoid\")(x)"
      ],
      "metadata": {
        "id": "PBPiM2HtRwwq"
      },
      "execution_count": null,
      "outputs": []
    },
    {
      "cell_type": "code",
      "source": [
        "m = Model(inputs=model.input, outputs=predictions)\n",
        "m.summary()"
      ],
      "metadata": {
        "id": "a5JB0kTuR1Hr"
      },
      "execution_count": null,
      "outputs": []
    },
    {
      "cell_type": "code",
      "source": [
        "m.compile(optimizer = RMSprop(learning_rate=0.0001), \n",
        "              loss = 'binary_crossentropy', \n",
        "              metrics = ['accuracy'])"
      ],
      "metadata": {
        "id": "zpobVvW_R_sw"
      },
      "execution_count": null,
      "outputs": []
    },
    {
      "cell_type": "code",
      "source": [
        "results = m.fit(train_generator,epochs=10,\n",
        "                              steps_per_epoch=20,\n",
        "                              validation_data=validation_generator,\n",
        "                             validation_steps=5)"
      ],
      "metadata": {
        "colab": {
          "base_uri": "https://localhost:8080/"
        },
        "id": "ucxl1FdvSBrb",
        "outputId": "baba6f00-680f-4583-e90a-3ddfb34d53ae"
      },
      "execution_count": null,
      "outputs": [
        {
          "output_type": "stream",
          "name": "stdout",
          "text": [
            "Epoch 1/10\n",
            "10/20 [==============>...............] - ETA: 36s - loss: 1.7751 - accuracy: 0.7300WARNING:tensorflow:Your input ran out of data; interrupting training. Make sure that your dataset or generator can generate at least `steps_per_epoch * epochs` batches (in this case, 200 batches). You may need to use the repeat() function when building your dataset.\n",
            "WARNING:tensorflow:Your input ran out of data; interrupting training. Make sure that your dataset or generator can generate at least `steps_per_epoch * epochs` batches (in this case, 5 batches). You may need to use the repeat() function when building your dataset.\n",
            "20/20 [==============================] - 59s 2s/step - loss: 1.7751 - accuracy: 0.7300 - val_loss: 0.4638 - val_accuracy: 1.0000\n"
          ]
        }
      ]
    },
    {
      "cell_type": "code",
      "source": [
        "m.evaluate(test_generator)"
      ],
      "metadata": {
        "id": "4GUTiqKlSatz",
        "colab": {
          "base_uri": "https://localhost:8080/"
        },
        "outputId": "f24343b8-d775-44c9-ac3e-4d32fc8eb71b"
      },
      "execution_count": null,
      "outputs": [
        {
          "output_type": "stream",
          "name": "stdout",
          "text": [
            "20/20 [==============================] - 98s 5s/step - loss: 0.5742 - accuracy: 0.7906\n"
          ]
        },
        {
          "output_type": "execute_result",
          "data": {
            "text/plain": [
              "[0.5742412805557251, 0.7906249761581421]"
            ]
          },
          "metadata": {},
          "execution_count": 31
        }
      ]
    }
  ]
}