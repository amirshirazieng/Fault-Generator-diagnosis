{
  "nbformat": 4,
  "nbformat_minor": 0,
  "metadata": {
    "colab": {
      "name": "FaultDetection92Perecent.ipynb",
      "provenance": [],
      "collapsed_sections": [],
      "include_colab_link": true
    },
    "kernelspec": {
      "name": "python3",
      "display_name": "Python 3"
    },
    "language_info": {
      "name": "python"
    },
    "accelerator": "GPU"
  },
  "cells": [
    {
      "cell_type": "markdown",
      "metadata": {
        "id": "view-in-github",
        "colab_type": "text"
      },
      "source": [
        "<a href=\"https://colab.research.google.com/github/amirshirazieng/MyMachineLearningSampleCode/blob/Sample/FaultDetectionInMotorViaCNN.ipynb\" target=\"_parent\"><img src=\"https://colab.research.google.com/assets/colab-badge.svg\" alt=\"Open In Colab\"/></a>"
      ]
    },
    {
      "cell_type": "code",
      "execution_count": null,
      "metadata": {
        "id": "RWSJpsyKqHjH",
        "colab": {
          "base_uri": "https://localhost:8080/"
        },
        "outputId": "178a9106-37e1-43e8-b204-0ffe8c9ab1f8"
      },
      "outputs": [
        {
          "output_type": "stream",
          "name": "stdout",
          "text": [
            "Drive already mounted at /content/drive; to attempt to forcibly remount, call drive.mount(\"/content/drive\", force_remount=True).\n"
          ]
        }
      ],
      "source": [
        "#mount the google drive path\n",
        "from google.colab import drive\n",
        "drive.mount('/content/drive')"
      ]
    },
    {
      "cell_type": "code",
      "execution_count": null,
      "metadata": {
        "id": "xb4PeR29Pa87",
        "colab": {
          "base_uri": "https://localhost:8080/"
        },
        "outputId": "53f9a74f-0d19-43f2-9bb7-49ef7e3eaea2"
      },
      "outputs": [
        {
          "output_type": "stream",
          "name": "stdout",
          "text": [
            "2.7.0\n",
            "2.7.0\n"
          ]
        }
      ],
      "source": [
        "import tensorflow as tf\n",
        "from keras import layers, optimizers, losses\n",
        "from keras.layers import Dense, Dropout\n",
        "import keras\n",
        "from keras.models import Sequential\n",
        "from keras import layers\n",
        "import matplotlib.pyplot as plt\n",
        "from tensorflow.keras.utils import to_categorical\n",
        "from tensorflow import keras\n",
        "import re\n",
        "import scipy.io\n",
        "import numpy as np\n",
        "import pandas as pd\n",
        "import sklearn\n",
        "from sklearn.model_selection import train_test_split\n",
        "from keras.layers.convolutional import Conv2D\n",
        "from keras.layers import Dense\n",
        "from keras.layers.convolutional import MaxPooling2D,Conv1D,MaxPooling1D\n",
        "from keras.layers.core import Flatten\n",
        "from tensorflow.keras.layers import BatchNormalization\n",
        "from keras.layers import Activation\n",
        "from sklearn.neighbors import KNeighborsClassifier\n",
        "from tensorflow.keras.layers import Dense\n",
        "from tensorflow.keras.layers import Dropout\n",
        "from tensorflow.keras.callbacks import EarlyStopping\n",
        "from sklearn.preprocessing import LabelEncoder\n",
        "import matplotlib.pyplot as plt\n",
        "import keras\n",
        "print(tf.__version__)\n",
        "print(keras.__version__)"
      ]
    },
    {
      "cell_type": "code",
      "source": [
        "matlab_files_name = {}\n",
        " \n",
        "def cwru_12khz():\n",
        "\n",
        " \n",
        "  # Normal\n",
        "  matlab_files_name[\"B007_1_123\"] = \"/content/drive/MyDrive/Shirazi/raw/B007_1_123.mat\"\n",
        "  matlab_files_name[\"B014_1_190\"] = \"/content/drive/MyDrive/Shirazi/raw/B014_1_190.mat\"\n",
        "  matlab_files_name[\"B021_1_227\"] = \"/content/drive/MyDrive/Shirazi/raw/B021_1_227.mat\"\n",
        "  matlab_files_name[\"IR007_1_110\"] = \"/content/drive/MyDrive/Shirazi/raw/IR007_1_110.mat\"\n",
        "  matlab_files_name[\"IR014_1_175\"] = \"/content/drive/MyDrive/Shirazi/raw/IR014_1_175.mat\"\n",
        "  matlab_files_name[\"IR021_1_214\"] = \"/content/drive/MyDrive/Shirazi/raw/IR021_1_214.mat\"\n",
        "  matlab_files_name[\"OR007_6_1_136\"] = \"/content/drive/MyDrive/Shirazi/raw/OR007_6_1_136.mat\"\n",
        "  matlab_files_name[\"OR014_6_1_202\"] = \"/content/drive/MyDrive/Shirazi/raw/OR014_6_1_202.mat\"\n",
        "  matlab_files_name[\"OR021_6_1_239\"] = \"/content/drive/MyDrive/Shirazi/raw/OR021_6_1_239.mat\"\n",
        "  matlab_files_name[\"Time_Normal_1_098\"] = \"/content/drive/MyDrive/Shirazi/raw/Time_Normal_1_098.mat\"\n",
        "  return matlab_files_name"
      ],
      "metadata": {
        "id": "lClP7ecOROD6"
      },
      "execution_count": null,
      "outputs": []
    },
    {
      "cell_type": "code",
      "source": [
        "def get_tensors_from_matlab(matlab_files_name):  \n",
        "  acquisitions = {}\n",
        "  for key in cwru_12khz():\n",
        "    file_name = matlab_files_name[key]\n",
        "    matlab_file = scipy.io.loadmat(file_name)\n",
        "    for position in ['DE']:\n",
        "      keys = [key for key in matlab_file if key.endswith(position+\"_time\")]\n",
        "      if len(keys)>0:\n",
        "        array_key = keys[0]\n",
        "        acquisitions[key] = matlab_file[array_key].reshape(1,-1)[0]\n",
        "  return acquisitions"
      ],
      "metadata": {
        "id": "MV8d0vNE_1Kc"
      },
      "execution_count": null,
      "outputs": []
    },
    {
      "cell_type": "code",
      "source": [
        "def cwru_segmentation(acquisitions, sample_size=512, max_samples=None):\n",
        "  '''\n",
        "  Segments the acquisitions.\n",
        "  sample_size is the size of each segment.\n",
        "  max_samples is used for debug purpouses and \n",
        "  reduces the number of samples from each acquisition.\n",
        "  '''\n",
        "  origin = []\n",
        "  data = np.empty((0,sample_size,1))\n",
        "  n = len(acquisitions)\n",
        "  for i,key in enumerate(acquisitions):\n",
        "    acquisition_size = len(acquisitions[key])\n",
        "    n_samples = acquisition_size//sample_size\n",
        "    if max_samples is not None and max_samples > 0 and n_samples > max_samples:\n",
        "      n_samples = max_samples\n",
        "    print('{}/{} --- {}: {}'.format(i+1, n, key, n_samples))\n",
        "    origin.extend([key for _ in range(n_samples)])\n",
        "    data = np.concatenate((data,\n",
        "           acquisitions[key][:(n_samples*sample_size)].reshape(\n",
        "               (n_samples,sample_size,1))))\n",
        "  return data,origin"
      ],
      "metadata": {
        "id": "RXgwkEI7AKfb"
      },
      "execution_count": null,
      "outputs": []
    },
    {
      "cell_type": "code",
      "source": [
        "def select_samples(regex, X, y):\n",
        "  '''\n",
        "  Selects samples wich has some regex pattern in its name.\n",
        "  '''\n",
        "  mask = [re.search(regex,label) is not None for label in y]\n",
        "  return X[mask],y[mask]"
      ],
      "metadata": {
        "id": "UCK2OSyExwHv"
      },
      "execution_count": null,
      "outputs": []
    },
    {
      "cell_type": "code",
      "source": [
        "def join_labels(regex, y):\n",
        "  '''\n",
        "  Excludes some regex patterns from the labels, \n",
        "  making some samples to have the same label.\n",
        "  '''\n",
        "  return np.array([re.sub(regex, '', label) for label in y])"
      ],
      "metadata": {
        "id": "FNgvuwqUx_Ad"
      },
      "execution_count": null,
      "outputs": []
    },
    {
      "cell_type": "code",
      "source": [
        "def get_groups(regex, y):\n",
        "  '''\n",
        "  Generates a list of groups of samples with \n",
        "  the same regex patten in its label.\n",
        "  '''\n",
        "  groups = list(range(len(y)))\n",
        "  for i,label in enumerate(y):\n",
        "    match = re.search(regex,label)\n",
        "    groups[i] = match.group(0) if match else None\n",
        "  return groups"
      ],
      "metadata": {
        "id": "D6_nj0neyDcm"
      },
      "execution_count": null,
      "outputs": []
    },
    {
      "cell_type": "code",
      "source": [
        "matlab_files_name = cwru_12khz()\n",
        "matlab_files_name\n",
        "acquisitions = get_tensors_from_matlab(matlab_files_name)\n",
        "list(acquisitions.keys())"
      ],
      "metadata": {
        "colab": {
          "base_uri": "https://localhost:8080/"
        },
        "id": "pkJnLQ3HyMEe",
        "outputId": "b76c380c-c52a-4f7b-d265-d8fd0809a080"
      },
      "execution_count": null,
      "outputs": [
        {
          "output_type": "execute_result",
          "data": {
            "text/plain": [
              "['B007_1_123',\n",
              " 'B014_1_190',\n",
              " 'B021_1_227',\n",
              " 'IR007_1_110',\n",
              " 'IR014_1_175',\n",
              " 'IR021_1_214',\n",
              " 'OR007_6_1_136',\n",
              " 'OR014_6_1_202',\n",
              " 'OR021_6_1_239',\n",
              " 'Time_Normal_1_098']"
            ]
          },
          "metadata": {},
          "execution_count": 9
        }
      ]
    },
    {
      "cell_type": "code",
      "source": [
        "acquisitions.get('B007_1_123').shape"
      ],
      "metadata": {
        "colab": {
          "base_uri": "https://localhost:8080/"
        },
        "id": "a3DOwPzqyR6Y",
        "outputId": "de9f24fe-8e47-4f6b-ae93-57695415f902"
      },
      "execution_count": null,
      "outputs": [
        {
          "output_type": "execute_result",
          "data": {
            "text/plain": [
              "(487384,)"
            ]
          },
          "metadata": {},
          "execution_count": 10
        }
      ]
    },
    {
      "cell_type": "code",
      "source": [
        "plt.figure(figsize=(15,3))\n",
        "plt.plot(acquisitions.get('B007_1_123'))"
      ],
      "metadata": {
        "colab": {
          "base_uri": "https://localhost:8080/",
          "height": 229
        },
        "id": "fRwHr17syrrL",
        "outputId": "c521b58f-57be-4714-af5f-777f2edae47a"
      },
      "execution_count": null,
      "outputs": [
        {
          "output_type": "execute_result",
          "data": {
            "text/plain": [
              "[<matplotlib.lines.Line2D at 0x7fba7ca13a90>]"
            ]
          },
          "metadata": {},
          "execution_count": 11
        },
        {
          "output_type": "display_data",
          "data": {
            "image/png": "[encoded data removed]",
            "text/plain": [
              "<Figure size 1080x216 with 1 Axes>"
            ]
          },
          "metadata": {
            "needs_background": "light"
          }
        }
      ]
    },
    {
      "cell_type": "code",
      "source": [
        "plt.plot(acquisitions.get('IR014_1_175'))"
      ],
      "metadata": {
        "colab": {
          "base_uri": "https://localhost:8080/",
          "height": 283
        },
        "id": "4-JdRh_fy84W",
        "outputId": "f7cfe929-a580-4dc4-ae06-ddc936a6dae9"
      },
      "execution_count": null,
      "outputs": [
        {
          "output_type": "execute_result",
          "data": {
            "text/plain": [
              "[<matplotlib.lines.Line2D at 0x7fba7c4fc950>]"
            ]
          },
          "metadata": {},
          "execution_count": 12
        },
        {
          "output_type": "display_data",
          "data": {
            "image/png": "[encoded data removed]",
            "text/plain": [
              "<Figure size 432x288 with 1 Axes>"
            ]
          },
          "metadata": {
            "needs_background": "light"
          }
        }
      ]
    },
    {
      "cell_type": "code",
      "source": [
        "signal_data,signal_origin = cwru_segmentation(acquisitions, 256)"
      ],
      "metadata": {
        "colab": {
          "base_uri": "https://localhost:8080/"
        },
        "id": "Txjf6MT8zGd9",
        "outputId": "fa49680d-b593-4d5e-b646-3a51b9e9d6de"
      },
      "execution_count": null,
      "outputs": [
        {
          "output_type": "stream",
          "name": "stdout",
          "text": [
            "1/10 --- B007_1_123: 1903\n",
            "2/10 --- B014_1_190: 1899\n",
            "3/10 --- B021_1_227: 1901\n",
            "4/10 --- IR007_1_110: 1899\n",
            "5/10 --- IR014_1_175: 1910\n",
            "6/10 --- IR021_1_214: 1894\n",
            "7/10 --- OR007_6_1_136: 1901\n",
            "8/10 --- OR014_6_1_202: 1892\n",
            "9/10 --- OR021_6_1_239: 1910\n",
            "10/10 --- Time_Normal_1_098: 1890\n"
          ]
        }
      ]
    },
    {
      "cell_type": "code",
      "source": [
        "signal_data.shape"
      ],
      "metadata": {
        "colab": {
          "base_uri": "https://localhost:8080/"
        },
        "id": "0OLcvdoWzIlY",
        "outputId": "189e6318-ebc5-4e2a-de13-8322b112de4a"
      },
      "execution_count": null,
      "outputs": [
        {
          "output_type": "execute_result",
          "data": {
            "text/plain": [
              "(18999, 256, 1)"
            ]
          },
          "metadata": {},
          "execution_count": 31
        }
      ]
    },
    {
      "cell_type": "code",
      "source": [
        "def samples_relabel(regex, rp, y):\n",
        "  '''\n",
        "  Selects samples wich has some regex pattern in its name.\n",
        "  '''\n",
        "  mask = [re.search(regex,label) is not None for label in y]\n",
        "  y[mask]=rp\n",
        "  return y"
      ],
      "metadata": {
        "id": "ijxVEtckzhCe"
      },
      "execution_count": null,
      "outputs": []
    },
    {
      "cell_type": "code",
      "source": [
        "relabel_signal = np.array(signal_origin)\n",
        "regex = '^(B007_1_123).*'\n",
        "rp = 'B007_1_123'\n",
        "relabel_signal = samples_relabel(regex, rp, relabel_signal)\n",
        "\n",
        "regex = '^(B014_1_190).*'\n",
        "rp = 'B014_1_190'\n",
        "relabel_signal = samples_relabel(regex, rp, relabel_signal)\n",
        "regex = '^(B021_1_227).*'\n",
        "rp = 'B021_1_227'\n",
        "relabel_signal = samples_relabel(regex, rp, relabel_signal)\n",
        "regex = '^(IR007_1_110).*'\n",
        "rp = 'IR007_1_110'\n",
        "relabel_signal = samples_relabel(regex, rp, relabel_signal)\n",
        "regex = '^(IR014_1_175).*'\n",
        "rp = 'IR014_1_175'\n",
        "relabel_signal = samples_relabel(regex, rp, relabel_signal)\n",
        "\n",
        "\n",
        "regex = '^(IR021_1_214).*'\n",
        "rp = 'IR021_1_214'\n",
        "relabel_signal = samples_relabel(regex, rp, relabel_signal)\n",
        "regex = '^(OR007_6_1_136).*'\n",
        "rp = 'OR007_6_1_136'\n",
        "relabel_signal = samples_relabel(regex, rp, relabel_signal)\n",
        "regex = '^(OR014_6_1_202).*'\n",
        "rp = 'OR014_6_1_202'\n",
        "relabel_signal = samples_relabel(regex, rp, relabel_signal)\n",
        "regex = '^(OR021_6_1_239).*'\n",
        "rp = 'OR021_6_1_239'\n",
        "relabel_signal = samples_relabel(regex, rp, relabel_signal)\n",
        "\n",
        "regex = '^(Time_Normal_1_098).*'\n",
        "rp = 'Time_Normal_1_098'\n",
        "relabel_signal = samples_relabel(regex, rp, relabel_signal)\n",
        "\n",
        "\n",
        "#print(a)\n",
        "np.where(relabel_signal == \"B014_1_190\")"
      ],
      "metadata": {
        "id": "oiQrFGrTzk6q",
        "colab": {
          "base_uri": "https://localhost:8080/"
        },
        "outputId": "cc17bb02-ba2a-4bc2-ac08-0be554c91d2f"
      },
      "execution_count": null,
      "outputs": [
        {
          "output_type": "execute_result",
          "data": {
            "text/plain": [
              "(array([1903, 1904, 1905, ..., 3799, 3800, 3801]),)"
            ]
          },
          "metadata": {},
          "execution_count": 33
        }
      ]
    },
    {
      "cell_type": "code",
      "source": [
        "samples = '^(IR)|(B0).*'\n",
        "X,y = select_samples(samples, signal_data, relabel_signal)\n",
        "print(len(set(y)),set(y))"
      ],
      "metadata": {
        "id": "-nhXHVjm1JzA",
        "colab": {
          "base_uri": "https://localhost:8080/"
        },
        "outputId": "f470b24e-15c0-4146-9b03-d937f84e3821"
      },
      "execution_count": null,
      "outputs": [
        {
          "output_type": "stream",
          "name": "stdout",
          "text": [
            "6 {'B007_1_123', 'IR021_1_214', 'B021_1_227', 'B014_1_190', 'IR007_1_110', 'IR014_1_175'}\n"
          ]
        }
      ]
    },
    {
      "cell_type": "code",
      "source": [
        "np.size(np.where(y == \"B014_1_190\"))"
      ],
      "metadata": {
        "colab": {
          "base_uri": "https://localhost:8080/"
        },
        "id": "3Q4Cn5Pq2OpK",
        "outputId": "a68f97b0-ba09-43c4-97c7-ea0f88516f9f"
      },
      "execution_count": null,
      "outputs": [
        {
          "output_type": "execute_result",
          "data": {
            "text/plain": [
              "1899"
            ]
          },
          "metadata": {},
          "execution_count": 35
        }
      ]
    },
    {
      "cell_type": "code",
      "source": [
        "X[1421].shape"
      ],
      "metadata": {
        "colab": {
          "base_uri": "https://localhost:8080/"
        },
        "id": "kOe7Gxhq2aEA",
        "outputId": "992e0c5e-a54a-4821-cd42-c85f7ee45e8e"
      },
      "execution_count": null,
      "outputs": [
        {
          "output_type": "execute_result",
          "data": {
            "text/plain": [
              "(256, 1)"
            ]
          },
          "metadata": {},
          "execution_count": 36
        }
      ]
    },
    {
      "cell_type": "code",
      "source": [
        "plt.figure(figsize=(8,3))\n",
        "plt.ylim([-7,7])\n",
        "plt.plot(X[1400])"
      ],
      "metadata": {
        "colab": {
          "base_uri": "https://localhost:8080/",
          "height": 229
        },
        "id": "sfZkEC6d2iMv",
        "outputId": "7a26f9b1-34f1-4df6-8fbb-5a93e5247fa2"
      },
      "execution_count": null,
      "outputs": [
        {
          "output_type": "execute_result",
          "data": {
            "text/plain": [
              "[<matplotlib.lines.Line2D at 0x7fba700cc410>]"
            ]
          },
          "metadata": {},
          "execution_count": 37
        },
        {
          "output_type": "display_data",
          "data": {
            "image/png": "[encoded data removed]",
            "text/plain": [
              "<Figure size 576x216 with 1 Axes>"
            ]
          },
          "metadata": {
            "needs_background": "light"
          }
        }
      ]
    },
    {
      "cell_type": "code",
      "source": [
        "labels = pd.Categorical(y, categories = set(y)).codes\n",
        "labels"
      ],
      "metadata": {
        "colab": {
          "base_uri": "https://localhost:8080/"
        },
        "id": "htc2ICos2tHI",
        "outputId": "1535186e-b07f-41d1-871f-4d75346310a6"
      },
      "execution_count": null,
      "outputs": [
        {
          "output_type": "execute_result",
          "data": {
            "text/plain": [
              "array([0, 0, 0, ..., 1, 1, 1], dtype=int8)"
            ]
          },
          "metadata": {},
          "execution_count": 38
        }
      ]
    },
    {
      "cell_type": "code",
      "source": [
        "from sklearn.model_selection import train_test_split\n",
        "X_train, X_test, y_train, y_test = train_test_split(X, labels, test_size=0.25, shuffle=True)"
      ],
      "metadata": {
        "id": "Kcew2YHRNsu2"
      },
      "execution_count": null,
      "outputs": []
    },
    {
      "cell_type": "code",
      "source": [
        "nsamples, nx, ny = X_train.shape\n",
        "d2_train_dataset = X_train.reshape((nsamples,nx*ny))\n",
        "nsamples2, nx, ny = X_test.shape\n",
        "d3_train_dataset = X_test.reshape((nsamples2,nx*ny))"
      ],
      "metadata": {
        "id": "UYmGBXK6aj7q"
      },
      "execution_count": null,
      "outputs": []
    },
    {
      "cell_type": "code",
      "source": [
        "X_train.shape\n",
        "d2_train_dataset.shape"
      ],
      "metadata": {
        "colab": {
          "base_uri": "https://localhost:8080/"
        },
        "id": "NDRSE61fi_Yy",
        "outputId": "c7f8e2c4-fdbe-417d-ea2f-13fa2b38fbc2"
      },
      "execution_count": null,
      "outputs": [
        {
          "output_type": "execute_result",
          "data": {
            "text/plain": [
              "(8554, 256)"
            ]
          },
          "metadata": {},
          "execution_count": 41
        }
      ]
    },
    {
      "cell_type": "code",
      "source": [
        "from sklearn.svm import SVC\n",
        "svm = SVC(random_state = 1)\n",
        "svm.fit(d2_train_dataset,y_train)\n",
        "print(\"SVM accuracy is {} on Train Dataset\".format(svm.score(d2_train_dataset,y_train)))\n",
        "print(\"SVM accuracy is {} on Test Dataset\".format(svm.score(d3_train_dataset,y_test)))"
      ],
      "metadata": {
        "id": "C24w9E7gMZuw"
      },
      "execution_count": null,
      "outputs": []
    },
    {
      "cell_type": "code",
      "source": [
        "knn = KNeighborsClassifier(n_neighbors = 1) #n_neighbors = k\n",
        "knn.fit(d2_train_dataset,y_train)\n",
        "print(\"k={}NN Accuracy on Train Data: {}\".format(2,knn.score(d2_train_dataset,y_train)))\n",
        "print(\"k={}NN Accuracy on Test Data: {}\".format(2,knn.score(d3_train_dataset,y_test)))"
      ],
      "metadata": {
        "id": "ycjeaAuXLtIW",
        "colab": {
          "base_uri": "https://localhost:8080/",
          "height": 227
        },
        "outputId": "3d503567-96e6-446f-fc97-9d9e9fbfe449"
      },
      "execution_count": null,
      "outputs": [
        {
          "output_type": "error",
          "ename": "NameError",
          "evalue": "ignored",
          "traceback": [
            "\u001b[0;31m---------------------------------------------------------------------------\u001b[0m",
            "\u001b[0;31mNameError\u001b[0m                                 Traceback (most recent call last)",
            "\u001b[0;32m<ipython-input-1-ac01d0bf7f88>\u001b[0m in \u001b[0;36m<module>\u001b[0;34m()\u001b[0m\n\u001b[0;32m----> 1\u001b[0;31m \u001b[0mknn\u001b[0m \u001b[0;34m=\u001b[0m \u001b[0mKNeighborsClassifier\u001b[0m\u001b[0;34m(\u001b[0m\u001b[0mn_neighbors\u001b[0m \u001b[0;34m=\u001b[0m \u001b[0;36m1\u001b[0m\u001b[0;34m)\u001b[0m \u001b[0;31m#n_neighbors = k\u001b[0m\u001b[0;34m\u001b[0m\u001b[0;34m\u001b[0m\u001b[0m\n\u001b[0m\u001b[1;32m      2\u001b[0m \u001b[0mknn\u001b[0m\u001b[0;34m.\u001b[0m\u001b[0mfit\u001b[0m\u001b[0;34m(\u001b[0m\u001b[0md2_train_dataset\u001b[0m\u001b[0;34m,\u001b[0m\u001b[0my_train\u001b[0m\u001b[0;34m)\u001b[0m\u001b[0;34m\u001b[0m\u001b[0;34m\u001b[0m\u001b[0m\n\u001b[1;32m      3\u001b[0m \u001b[0mprint\u001b[0m\u001b[0;34m(\u001b[0m\u001b[0;34m\"k={}NN Accuracy on Train Data: {}\"\u001b[0m\u001b[0;34m.\u001b[0m\u001b[0mformat\u001b[0m\u001b[0;34m(\u001b[0m\u001b[0;36m2\u001b[0m\u001b[0;34m,\u001b[0m\u001b[0mknn\u001b[0m\u001b[0;34m.\u001b[0m\u001b[0mscore\u001b[0m\u001b[0;34m(\u001b[0m\u001b[0md2_train_dataset\u001b[0m\u001b[0;34m,\u001b[0m\u001b[0my_train\u001b[0m\u001b[0;34m)\u001b[0m\u001b[0;34m)\u001b[0m\u001b[0;34m)\u001b[0m\u001b[0;34m\u001b[0m\u001b[0;34m\u001b[0m\u001b[0m\n\u001b[1;32m      4\u001b[0m \u001b[0mprint\u001b[0m\u001b[0;34m(\u001b[0m\u001b[0;34m\"k={}NN Accuracy on Test Data: {}\"\u001b[0m\u001b[0;34m.\u001b[0m\u001b[0mformat\u001b[0m\u001b[0;34m(\u001b[0m\u001b[0;36m2\u001b[0m\u001b[0;34m,\u001b[0m\u001b[0mknn\u001b[0m\u001b[0;34m.\u001b[0m\u001b[0mscore\u001b[0m\u001b[0;34m(\u001b[0m\u001b[0md3_train_dataset\u001b[0m\u001b[0;34m,\u001b[0m\u001b[0my_test\u001b[0m\u001b[0;34m)\u001b[0m\u001b[0;34m)\u001b[0m\u001b[0;34m)\u001b[0m\u001b[0;34m\u001b[0m\u001b[0;34m\u001b[0m\u001b[0m\n",
            "\u001b[0;31mNameError\u001b[0m: name 'KNeighborsClassifier' is not defined"
          ]
        }
      ]
    },
    {
      "cell_type": "code",
      "source": [
        "early_stop = EarlyStopping(monitor='loss', patience=2)\n",
        "model = Sequential()\n",
        "\n",
        "model.add(Dense(512, activation='relu', input_shape=(256,),kernel_initializer='random_uniform'))\n",
        "model.add(Dense(256, activation='relu',kernel_initializer='random_uniform'))\n",
        "model.add(Dense(128, activation='relu',kernel_initializer='random_uniform'))\n",
        "model.add(Dense(64, activation='relu',kernel_initializer='random_uniform'))\n",
        "model.add(Dense(9, activation='softmax',kernel_initializer='random_uniform'))\n",
        "\n",
        "model.compile(optimizer='adam', loss='sparse_categorical_crossentropy', metrics=['accuracy'])\n",
        "model.summary()"
      ],
      "metadata": {
        "id": "_yFPl8EWgZUI"
      },
      "execution_count": null,
      "outputs": []
    },
    {
      "cell_type": "code",
      "source": [
        "y = LabelEncoder().fit_transform(y)"
      ],
      "metadata": {
        "id": "OTMl2eIjhCU8"
      },
      "execution_count": null,
      "outputs": []
    },
    {
      "cell_type": "code",
      "source": [
        "d2_train_dataset.shape"
      ],
      "metadata": {
        "id": "0H99WVJ7ieRV",
        "colab": {
          "base_uri": "https://localhost:8080/"
        },
        "outputId": "50e55eb0-d246-4159-8449-116dd71db33b"
      },
      "execution_count": null,
      "outputs": [
        {
          "output_type": "execute_result",
          "data": {
            "text/plain": [
              "(8554, 256)"
            ]
          },
          "metadata": {},
          "execution_count": 90
        }
      ]
    },
    {
      "cell_type": "code",
      "source": [
        "hist = model.fit(d2_train_dataset , y_train, batch_size=128 , epochs=50, validation_split=0.2)"
      ],
      "metadata": {
        "id": "qkw8FG9XhywX"
      },
      "execution_count": null,
      "outputs": []
    },
    {
      "cell_type": "code",
      "source": [
        "plt.plot(hist.history['accuracy'])\n",
        "plt.plot(hist.history['val_accuracy'])\n",
        "plt.title('model accuracy')\n",
        "plt.ylabel('accuracy')\n",
        "plt.xlabel('epoch')\n",
        "plt.legend(['train', 'val'], loc='upper left')\n",
        "plt.show()"
      ],
      "metadata": {
        "id": "XvOCRUllkNRe",
        "colab": {
          "base_uri": "https://localhost:8080/",
          "height": 295
        },
        "outputId": "40df55f2-d8b6-454d-ef8c-f5055fc013c3"
      },
      "execution_count": null,
      "outputs": [
        {
          "output_type": "display_data",
          "data": {
            "image/png": "[encoded data removed]",
            "text/plain": [
              "<Figure size 432x288 with 1 Axes>"
            ]
          },
          "metadata": {
            "needs_background": "light"
          }
        }
      ]
    },
    {
      "cell_type": "code",
      "source": [
        "plt.plot(hist.history['loss'])\n",
        "plt.plot(hist.history['val_loss'])\n",
        "plt.title('model loss')\n",
        "plt.ylabel('loss')\n",
        "plt.xlabel('epoch')\n",
        "plt.legend(['train', 'val'], loc='upper left')\n",
        "plt.show()"
      ],
      "metadata": {
        "id": "vIIp4Qc9kUty",
        "colab": {
          "base_uri": "https://localhost:8080/",
          "height": 295
        },
        "outputId": "6aeee5b5-8a1e-44b7-a8a5-0b0f46e78e40"
      },
      "execution_count": null,
      "outputs": [
        {
          "output_type": "display_data",
          "data": {
            "image/png": "[encoded data removed]",
            "text/plain": [
              "<Figure size 432x288 with 1 Axes>"
            ]
          },
          "metadata": {
            "needs_background": "light"
          }
        }
      ]
    }
  ]
}